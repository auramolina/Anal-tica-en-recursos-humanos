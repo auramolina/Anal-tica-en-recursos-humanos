{
  "nbformat": 4,
  "nbformat_minor": 0,
  "metadata": {
    "colab": {
      "provenance": []
    },
    "kernelspec": {
      "name": "python3",
      "display_name": "Python 3"
    },
    "language_info": {
      "name": "python"
    }
  },
  "cells": [
    {
      "cell_type": "code",
      "execution_count": null,
      "metadata": {
        "id": "EGHhAZitxGNb"
      },
      "outputs": [],
      "source": [
        "import numpy as np\n",
        "import pandas as pd\n",
        "from sklearn.impute import SimpleImputer ### para imputación\n",
        "from sklearn.feature_selection import SelectFromModel\n",
        "from sklearn.model_selection import cross_val_predict, cross_val_score, cross_validate\n",
        "import joblib\n",
        "from sklearn.preprocessing import StandardScaler, LabelEncoder"
      ]
    },
    {
      "cell_type": "markdown",
      "source": [
        "Este archivo contienen funciones utiles a utilizar en diferentes momentos del proyecto"
      ],
      "metadata": {
        "id": "tOmRugqyxfLZ"
      }
    },
    {
      "cell_type": "code",
      "source": [
        "###########Esta función permite ejecutar un archivo  con extensión .sql que contenga varias consultas\n",
        "\n",
        "def ejecutar_sql (nombre_archivo, cur):\n",
        "  sql_file=open(nombre_archivo)\n",
        "  sql_as_string=sql_file.read()\n",
        "  sql_file.close\n",
        "  cur.executescript(sql_as_string)"
      ],
      "metadata": {
        "id": "nSFYUN_8xd7O"
      },
      "execution_count": null,
      "outputs": []
    }
  ]
}