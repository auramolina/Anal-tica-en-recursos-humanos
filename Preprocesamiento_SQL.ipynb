{
  "nbformat": 4,
  "nbformat_minor": 0,
  "metadata": {
    "colab": {
      "provenance": []
    },
    "kernelspec": {
      "name": "python3",
      "display_name": "Python 3"
    },
    "language_info": {
      "name": "python"
    }
  },
  "cells": [
    {
      "cell_type": "code",
      "execution_count": null,
      "metadata": {
        "id": "1dGMW7Uhv0dm"
      },
      "outputs": [],
      "source": [
        "#### Cargar paquetes siempre al inicio\n",
        "import pandas as pd ### para manejo de datos\n",
        "import sqlite3 as sql #### para bases de datos sql\n",
        "import sys ## saber ruta de la que carga paquetes\n",
        "\n",
        "sys.path ###Ruta directorio qué tiene paquetes\n",
        "sys.path.append('/content/drive/MyDrive/trabajo/Trabajo-analitica-RH') ## este comanda agrega una ruta\n",
        "\n",
        "import a_funciones as funciones  ###archivo de funciones propias"
      ]
    }
  ]
}