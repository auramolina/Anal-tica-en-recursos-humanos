{
  "nbformat": 4,
  "nbformat_minor": 0,
  "metadata": {
    "colab": {
      "provenance": [],
      "authorship_tag": "ABX9TyNA794570CNJ01X+Ps/RBbC",
      "include_colab_link": true
    },
    "kernelspec": {
      "name": "python3",
      "display_name": "Python 3"
    },
    "language_info": {
      "name": "python"
    }
  },
  "cells": [
    {
      "cell_type": "markdown",
      "metadata": {
        "id": "view-in-github",
        "colab_type": "text"
      },
      "source": [
        "<a href=\"https://colab.research.google.com/github/auramolina/Analitica-en-recursos-humanos/blob/main/04%20Despliegue.ipynb\" target=\"_parent\"><img src=\"https://colab.research.google.com/assets/colab-badge.svg\" alt=\"Open In Colab\"/></a>"
      ]
    },
    {
      "cell_type": "code",
      "source": [
        "## Conectar el drive\n",
        "from google.colab import drive\n",
        "drive.mount('/content/drive')\n",
        "\n",
        "import sys\n",
        "import os\n",
        "\n",
        "path='/content/drive/MyDrive/AA/Analitica-en-recursos-humanos'\n",
        "os.chdir(path) ### setting a Working directory on drive path\n",
        "sys.path.append(path+'/')  ###setting path to read user defined functions"
      ],
      "metadata": {
        "colab": {
          "base_uri": "https://localhost:8080/"
        },
        "id": "5YBlzjDGCb7V",
        "outputId": "affb45ea-bacc-4b91-e64d-c62dd20f42d9"
      },
      "execution_count": 1,
      "outputs": [
        {
          "output_type": "stream",
          "name": "stdout",
          "text": [
            "Drive already mounted at /content/drive; to attempt to forcibly remount, call drive.mount(\"/content/drive\", force_remount=True).\n"
          ]
        }
      ]
    },
    {
      "cell_type": "code",
      "source": [
        "import funciones_jc as funciones  ###archivo de funciones propias\n",
        "import pandas as pd ### para manejo de datos\n",
        "# import sqlite3 as sql\n",
        "import joblib\n",
        "import openpyxl ## para exportar a excel\n",
        "import numpy as np\n",
        "from sklearn.preprocessing import LabelEncoder"
      ],
      "metadata": {
        "id": "UFWGgKo4CESg"
      },
      "execution_count": 8,
      "outputs": []
    },
    {
      "cell_type": "code",
      "source": [
        "# Cargar objeto guardado\n",
        "d2016 = joblib.load(\"/content/drive/MyDrive/AA/Analitica-en-recursos-humanos/salidas/ddummies2016.pkl\")"
      ],
      "metadata": {
        "id": "qkCFdToyFDw1"
      },
      "execution_count": 12,
      "outputs": []
    },
    {
      "cell_type": "code",
      "execution_count": 17,
      "metadata": {
        "id": "sFzDbTj5B1Qx"
      },
      "outputs": [],
      "source": [
        "###### el despliegue consiste en dejar todo el código listo para una ejecucion automática en el periodo definido:\n",
        "###### en este caso se ejecutara el proceso de entrenamiento y prediccion anualmente.\n",
        "if __name__==\"__main__\":\n",
        "\n",
        "  d2016\n",
        "\n",
        "  #### Otras transformaciones en python (imputación, dummies y selección de variables)\n",
        "  df_t = funciones.preparar_datos(d2016)\n",
        "\n",
        "  ## Cargar modelo y predecir\n",
        "  final = joblib.load(\"/content/drive/MyDrive/AA/Analitica-en-recursos-humanos/salidas/gb_final.pkl\")\n",
        "  predicciones = final.predict(df_t)\n",
        "  pd_pred = pd.DataFrame(predicciones, columns=['Retiros'])\n",
        "\n",
        "  ### Crear base con predicciones ###\n",
        "  pred = pd.concat([d2016['EmployeeID'], df_t, pd_pred], axis=1)\n",
        "\n",
        "  ####LLevar a BD para despliegue\n",
        "  ret = pred[['EmployeeID', 'Retiros']]\n",
        "  #ret.to_csv(\"/content/drive/MyDrive/AA/Analitica-en-recursos-humanos/salidas/pred.csv\", index=False)\n",
        "  ret2016 = ret.sort_values(by='EmployeeID', ascending=True)\n",
        "  ret2016.to_excel(\"/content/drive/MyDrive/AA/Analitica-en-recursos-humanos/salidas/pred2016.xlsx\", index=False)\n",
        "  ret_yes = ret.query('Retiros == 1')\n",
        "  ret_yes.to_excel(\"/content/drive/MyDrive/AA/Analitica-en-recursos-humanos/salidas/retiros.xlsx\", index=False)"
      ]
    }
  ]
}